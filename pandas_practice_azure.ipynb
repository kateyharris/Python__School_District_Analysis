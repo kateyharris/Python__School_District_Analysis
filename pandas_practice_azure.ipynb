{
    "metadata": {
        "kernelspec": {
            "name": "python3",
            "display_name": "Python 3 (ipykernel)",
            "language": "python"
        },
        "language_info": {
            "name": "python",
            "version": "3.8.10",
            "mimetype": "text/x-python",
            "codemirror_mode": {
                "name": "ipython",
                "version": 3
            },
            "pygments_lexer": "ipython3",
            "nbconvert_exporter": "python",
            "file_extension": ".py"
        }
    },
    "nbformat_minor": 2,
    "nbformat": 4,
    "cells": [
        {
            "cell_type": "code",
            "source": [
                "# List of high schools\r\n",
                "high_schools = [\"Huang High School\",  \"Figueroa High School\", \"Shelton High School\", \"Hernandez High School\",\"Griffin High School\",\"Wilson High School\", \"Cabrera High School\", \"Bailey High School\", \"Holden High School\", \"Pena High School\", \"Wright High School\",\"Rodriguez High School\", \"Johnson High School\", \"Ford High School\", \"Thomas High School\"]"
            ],
            "metadata": {
                "azdata_cell_guid": "ce6251eb-aa93-42f3-8ad7-555316b8ad7c"
            },
            "outputs": [],
            "execution_count": 3
        },
        {
            "cell_type": "code",
            "source": [
                "# Add the Pandas dependency.\r\n",
                "import pandas as pd"
            ],
            "metadata": {
                "azdata_cell_guid": "a3f3bdfb-f857-4ff8-acd6-753ba0981207"
            },
            "outputs": [],
            "execution_count": 5
        },
        {
            "cell_type": "code",
            "source": [
                "# Create a Pandas Series from a list.\r\n",
                "school_series = pd.Series(high_schools)"
            ],
            "metadata": {
                "azdata_cell_guid": "e50445d2-4a15-4875-8e36-c24a7cc3628a"
            },
            "outputs": [],
            "execution_count": 7
        },
        {
            "cell_type": "code",
            "source": [
                "# Create a Pandas Series from a list.\r\n",
                "school_series = pd.Series(high_schools)\r\n",
                "school_series"
            ],
            "metadata": {
                "azdata_cell_guid": "2357e85d-4d45-4db2-a821-3cd88adf4bd5"
            },
            "outputs": [
                {
                    "output_type": "execute_result",
                    "execution_count": 9,
                    "data": {
                        "text/plain": "0         Huang High School\n1      Figueroa High School\n2       Shelton High School\n3     Hernandez High School\n4       Griffin High School\n5        Wilson High School\n6       Cabrera High School\n7        Bailey High School\n8        Holden High School\n9          Pena High School\n10       Wright High School\n11    Rodriguez High School\n12      Johnson High School\n13         Ford High School\n14       Thomas High School\ndtype: object"
                    },
                    "metadata": {}
                }
            ],
            "execution_count": 9
        },
        {
            "cell_type": "code",
            "source": [
                "# A dictionary of high schools\r\n",
                "high_school_dicts = [{\"School ID\": 0, \"school_name\": \"Huang High    School\", \"type\": \"District\"},\r\n",
                "                   {\"School ID\": 1, \"school_name\": \"Figueroa High School\", \"type\": \"District\"},\r\n",
                "                    {\"School ID\": 2, \"school_name\":\"Shelton High School\", \"type\": \"Charter\"},\r\n",
                "                    {\"School ID\": 3, \"school_name\":\"Hernandez High School\", \"type\": \"District\"},\r\n",
                "                    {\"School ID\": 4, \"school_name\":\"Griffin High School\", \"type\": \"Charter\"}]"
            ],
            "metadata": {
                "azdata_cell_guid": "c623a5ea-75fa-4978-a134-fd488c681172"
            },
            "outputs": [],
            "execution_count": 11
        },
        {
            "cell_type": "code",
            "source": [
                "school_df = pd.DataFrame(high_school_dicts)\r\n",
                "school_df"
            ],
            "metadata": {
                "azdata_cell_guid": "8945298a-6e1d-42ea-a2e2-c99164a9561d"
            },
            "outputs": [
                {
                    "output_type": "execute_result",
                    "execution_count": 13,
                    "data": {
                        "text/plain": "   School ID            school_name      type\n0          0   Huang High    School  District\n1          1   Figueroa High School  District\n2          2    Shelton High School   Charter\n3          3  Hernandez High School  District\n4          4    Griffin High School   Charter",
                        "text/html": "<div>\n<style scoped>\n    .dataframe tbody tr th:only-of-type {\n        vertical-align: middle;\n    }\n\n    .dataframe tbody tr th {\n        vertical-align: top;\n    }\n\n    .dataframe thead th {\n        text-align: right;\n    }\n</style>\n<table border=\"1\" class=\"dataframe\">\n  <thead>\n    <tr style=\"text-align: right;\">\n      <th></th>\n      <th>School ID</th>\n      <th>school_name</th>\n      <th>type</th>\n    </tr>\n  </thead>\n  <tbody>\n    <tr>\n      <th>0</th>\n      <td>0</td>\n      <td>Huang High    School</td>\n      <td>District</td>\n    </tr>\n    <tr>\n      <th>1</th>\n      <td>1</td>\n      <td>Figueroa High School</td>\n      <td>District</td>\n    </tr>\n    <tr>\n      <th>2</th>\n      <td>2</td>\n      <td>Shelton High School</td>\n      <td>Charter</td>\n    </tr>\n    <tr>\n      <th>3</th>\n      <td>3</td>\n      <td>Hernandez High School</td>\n      <td>District</td>\n    </tr>\n    <tr>\n      <th>4</th>\n      <td>4</td>\n      <td>Griffin High School</td>\n      <td>Charter</td>\n    </tr>\n  </tbody>\n</table>\n</div>"
                    },
                    "metadata": {}
                }
            ],
            "execution_count": 13
        },
        {
            "cell_type": "code",
            "source": [
                "# Three separate lists of information on high schools\r\n",
                "school_id = [0, 1, 2, 3, 4]\r\n",
                "\r\n",
                "school_name = [\"Huang High School\", \"Figueroa High School\",\r\n",
                "\"Shelton High School\", \"Hernandez High School\",\"Griffin High School\"]\r\n",
                "\r\n",
                "type_of_school = [\"District\", \"District\", \"Charter\", \"District\",\"Charter\"]"
            ],
            "metadata": {
                "azdata_cell_guid": "178c3566-ccae-475f-91b6-fa57b1b0dd4f"
            },
            "outputs": [],
            "execution_count": 15
        },
        {
            "cell_type": "code",
            "source": [
                "# Initialize a new DataFrame.\r\n",
                "schools_df = pd.DataFrame()"
            ],
            "metadata": {
                "azdata_cell_guid": "2aa99a38-a8a1-48bb-9cad-6a0a0eaf67d9"
            },
            "outputs": [],
            "execution_count": 17
        },
        {
            "cell_type": "code",
            "source": [
                "# Add the list to a new DataFrame., school ID as key\r\n",
                "schools_df[\"School ID\"] = school_id"
            ],
            "metadata": {
                "azdata_cell_guid": "62e55153-a896-4080-afc5-d3b7e83d5402"
            },
            "outputs": [],
            "execution_count": 19
        },
        {
            "cell_type": "code",
            "source": [
                "#Add the school_name list as \"School Name\" \r\n",
                "#and the type_of_school list as \"Type\" to the schools_df DataFrame.\r\n",
                "schools_df[\"School Name\"] = school_name\r\n",
                "schools_df[\"type\"] = type_of_school"
            ],
            "metadata": {
                "azdata_cell_guid": "31a09087-e779-4962-88d6-a6449a485660"
            },
            "outputs": [],
            "execution_count": 21
        },
        {
            "cell_type": "code",
            "source": [
                "# Print the DataFrame.\r\n",
                "schools_df"
            ],
            "metadata": {
                "azdata_cell_guid": "6b936d44-00a7-4d59-9e5c-6587a803fd23"
            },
            "outputs": [
                {
                    "output_type": "execute_result",
                    "execution_count": 23,
                    "data": {
                        "text/plain": "             School Name      type  School ID\n0      Huang High School  District          0\n1   Figueroa High School  District          1\n2    Shelton High School   Charter          2\n3  Hernandez High School  District          3\n4    Griffin High School   Charter          4",
                        "text/html": "<div>\n<style scoped>\n    .dataframe tbody tr th:only-of-type {\n        vertical-align: middle;\n    }\n\n    .dataframe tbody tr th {\n        vertical-align: top;\n    }\n\n    .dataframe thead th {\n        text-align: right;\n    }\n</style>\n<table border=\"1\" class=\"dataframe\">\n  <thead>\n    <tr style=\"text-align: right;\">\n      <th></th>\n      <th>School Name</th>\n      <th>type</th>\n      <th>School ID</th>\n    </tr>\n  </thead>\n  <tbody>\n    <tr>\n      <th>0</th>\n      <td>Huang High School</td>\n      <td>District</td>\n      <td>0</td>\n    </tr>\n    <tr>\n      <th>1</th>\n      <td>Figueroa High School</td>\n      <td>District</td>\n      <td>1</td>\n    </tr>\n    <tr>\n      <th>2</th>\n      <td>Shelton High School</td>\n      <td>Charter</td>\n      <td>2</td>\n    </tr>\n    <tr>\n      <th>3</th>\n      <td>Hernandez High School</td>\n      <td>District</td>\n      <td>3</td>\n    </tr>\n    <tr>\n      <th>4</th>\n      <td>Griffin High School</td>\n      <td>Charter</td>\n      <td>4</td>\n    </tr>\n  </tbody>\n</table>\n</div>"
                    },
                    "metadata": {}
                }
            ],
            "execution_count": 23
        },
        {
            "cell_type": "code",
            "source": [
                "school_df.values"
            ],
            "metadata": {
                "azdata_cell_guid": "64952494-0fed-45cd-b56a-7579142ddcc6"
            },
            "outputs": [
                {
                    "output_type": "execute_result",
                    "execution_count": 24,
                    "data": {
                        "text/plain": "array([[0, 'Huang High    School', 'District'],\n       [1, 'Figueroa High School', 'District'],\n       [2, 'Shelton High School', 'Charter'],\n       [3, 'Hernandez High School', 'District'],\n       [4, 'Griffin High School', 'Charter']], dtype=object)"
                    },
                    "metadata": {}
                }
            ],
            "execution_count": 24
        }
    ]
}